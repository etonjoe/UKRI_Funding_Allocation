{
 "cells": [
  {
   "cell_type": "markdown",
   "metadata": {},
   "source": [
    "##### Step 1: Import the libraries"
   ]
  },
  {
   "cell_type": "code",
   "execution_count": 2,
   "metadata": {},
   "outputs": [],
   "source": [
    "# Import libraries\n",
    "import csv\n",
    "import random\n",
    "import pandas as pd\n",
    "import matplotlib.pyplot as plt\n",
    "import numpy as np\n",
    "from PIL import Image"
   ]
  },
  {
   "cell_type": "markdown",
   "metadata": {},
   "source": [
    "#### Step 2: Function to generate demo Higher Education Providers (HEPs)"
   ]
  },
  {
   "cell_type": "code",
   "execution_count": 3,
   "metadata": {},
   "outputs": [],
   "source": [
    "# List of sample university names\n",
    "UNIVERSITY_NAMES = [\n",
    "    \"University of Oxford\",\n",
    "    \"University of Cambridge\",\n",
    "    \"Imperial College London\",\n",
    "    \"University College London\",\n",
    "    \"London School of Economics and Political Science\",\n",
    "    \"University of Manchester\",\n",
    "    \"University of Edinburgh\",\n",
    "    \"University of Bristol\",\n",
    "    \"University of Warwick\",\n",
    "    \"University of Glasgow\"\n",
    "]     # Add more university names as needed\n",
    "\n",
    "\n",
    "# Function to generate demo Higher Education Providers (HEPs)\n",
    "def generate_heps(num_heps):\n",
    "    heps = []\n",
    "    for _ in range(num_heps):\n",
    "        university_name = random.choice(UNIVERSITY_NAMES)\n",
    "        quality_rating = random.randint(0, 4)\n",
    "        volume_of_research = random.randint(100, 1000)  # Assuming a range for simplicity\n",
    "        num_staff_on_project = random.randint(5, 50)  # Assuming a range for simplicity\n",
    "        num_students = random.randint(5000, 50000)  # Assuming a range for simplicity\n",
    "        hep = {\n",
    "            \"University Name\": university_name,\n",
    "            \"Quality Rating\": quality_rating,\n",
    "            \"Volume of Research\": volume_of_research,\n",
    "            \"Number of Staff on Project\": num_staff_on_project,\n",
    "            \"Number of Students\": num_students\n",
    "        }\n",
    "        heps.append(hep)\n",
    "    return heps"
   ]
  },
  {
   "cell_type": "markdown",
   "metadata": {},
   "source": []
  },
  {
   "cell_type": "code",
   "execution_count": 4,
   "metadata": {},
   "outputs": [],
   "source": [
    "# Function to allocate funds to universities algorithmically\n",
    "def allocate_funds(heps, total_funds):\n",
    "    total_students = sum(hep[\"Number of Students\"] for hep in heps)\n",
    "    funds_allocation = {}\n",
    "    remaining_funds = total_funds\n",
    "    for hep in heps:\n",
    "        university_name = hep[\"University Name\"]\n",
    "        allocation_ratio = hep[\"Number of Students\"] / total_students\n",
    "        funds = int(allocation_ratio * total_funds)\n",
    "        funds_allocation[university_name] = funds\n",
    "        remaining_funds -= funds\n",
    "    # Allocate the remaining funds to universities with the highest number of students\n",
    "    sorted_heps = sorted(heps, key=lambda x: x[\"Number of Students\"], reverse=True)\n",
    "    for hep in sorted_heps:\n",
    "        if remaining_funds <= 0:\n",
    "            break\n",
    "        university_name = hep[\"University Name\"]\n",
    "        funds_allocation[university_name] += 1\n",
    "        remaining_funds -= 1\n",
    "    return funds_allocation\n",
    "\n",
    "# Generate 500 demo Higher Education Providers (HEPs)\n",
    "demo_heps = generate_heps(500)"
   ]
  },
  {
   "cell_type": "code",
   "execution_count": 5,
   "metadata": {},
   "outputs": [
    {
     "name": "stdout",
     "output_type": "stream",
     "text": [
      "First five records:\n",
      "1. University name: University of Manchester\n",
      "   Quality Rating: 0\n",
      "   Volume of research: 310\n",
      "   Number of staff on the research project: 31\n",
      "   Number of students in the University: 36373\n",
      "   Funds allocated: £115759\n",
      "\n",
      "2. University name: University of Cambridge\n",
      "   Quality Rating: 3\n",
      "   Volume of research: 905\n",
      "   Number of staff on the research project: 32\n",
      "   Number of students in the University: 30785\n",
      "   Funds allocated: £284498\n",
      "\n",
      "3. University name: University of Manchester\n",
      "   Quality Rating: 3\n",
      "   Volume of research: 345\n",
      "   Number of staff on the research project: 30\n",
      "   Number of students in the University: 15708\n",
      "   Funds allocated: £115759\n",
      "\n",
      "4. University name: University of Edinburgh\n",
      "   Quality Rating: 2\n",
      "   Volume of research: 159\n",
      "   Number of staff on the research project: 11\n",
      "   Number of students in the University: 18766\n",
      "   Funds allocated: £297812\n",
      "\n",
      "5. University name: London School of Economics and Political Science\n",
      "   Quality Rating: 4\n",
      "   Volume of research: 882\n",
      "   Number of staff on the research project: 8\n",
      "   Number of students in the University: 39126\n",
      "   Funds allocated: £76642\n",
      "\n",
      "Funds allocation results saved to funds_allocation.csv\n"
     ]
    }
   ],
   "source": [
    "# Allocate £100 million of public funds to universities\n",
    "total_funds = 100000000  # £100 million\n",
    "funds_allocation = allocate_funds(demo_heps, total_funds)\n",
    "\n",
    "# Print the first five records\n",
    "print(\"First five records:\")\n",
    "for i, hep in enumerate(demo_heps[:5], 1):\n",
    "    print(f\"{i}. University name: {hep['University Name']}\")\n",
    "    print(f\"   Quality Rating: {hep['Quality Rating']}\")\n",
    "    print(f\"   Volume of research: {hep['Volume of Research']}\")\n",
    "    print(f\"   Number of staff on the research project: {hep['Number of Staff on Project']}\")\n",
    "    print(f\"   Number of students in the University: {hep['Number of Students']}\")\n",
    "    print(f\"   Funds allocated: £{funds_allocation[hep['University Name']]}\")\n",
    "    print()\n",
    "\n",
    "# Save all records to CSV file\n",
    "output_file = \"funds_allocation.csv\"\n",
    "with open(output_file, \"w\", newline=\"\") as csvfile:\n",
    "    fieldnames = [\"University Name\", \"Quality Rating\", \"Volume of Research\", \"Number of Staff on Project\", \"Number of Students\", \"Funds Allocated (£)\"]\n",
    "    writer = csv.DictWriter(csvfile, fieldnames=fieldnames)\n",
    "    writer.writeheader()\n",
    "    for hep in demo_heps:\n",
    "        writer.writerow({\n",
    "            \"University Name\": hep[\"University Name\"],\n",
    "            \"Quality Rating\": hep[\"Quality Rating\"],\n",
    "            \"Volume of Research\": hep[\"Volume of Research\"],\n",
    "            \"Number of Staff on Project\": hep[\"Number of Staff on Project\"],\n",
    "            \"Number of Students\": hep[\"Number of Students\"],\n",
    "            \"Funds Allocated (£)\": funds_allocation[hep[\"University Name\"]]\n",
    "        })\n",
    "\n",
    "print(\"Funds allocation results saved to\", output_file)"
   ]
  }
 ],
 "metadata": {
  "kernelspec": {
   "display_name": "Python 3",
   "language": "python",
   "name": "python3"
  },
  "language_info": {
   "codemirror_mode": {
    "name": "ipython",
    "version": 3
   },
   "file_extension": ".py",
   "mimetype": "text/x-python",
   "name": "python",
   "nbconvert_exporter": "python",
   "pygments_lexer": "ipython3",
   "version": "3.10.13"
  }
 },
 "nbformat": 4,
 "nbformat_minor": 2
}
